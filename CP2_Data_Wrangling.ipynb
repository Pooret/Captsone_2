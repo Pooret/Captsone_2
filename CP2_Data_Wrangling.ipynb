{
 "cells": [
  {
   "cell_type": "code",
   "execution_count": 1,
   "metadata": {},
   "outputs": [],
   "source": [
    "import pandas as pd\n",
    "import numpy as np\n",
    "import matplotlib.pyplot as plt\n",
    "import twint\n",
    "from bs4 import BeautifulSoup\n",
    "import re\n",
    "import yfinance as yf\n",
    "from nltk.tokenize import WordPunctTokenizer\n",
    "from datetime import datetime as dt\n",
    "from datetime import timedelta\n",
    "\n",
    "# Fixes runtime errors and compatibility issues while running Twint in notebook\n",
    "import nest_asyncio\n",
    "nest_asyncio.apply()"
   ]
  },
  {
   "cell_type": "code",
   "execution_count": 2,
   "metadata": {},
   "outputs": [],
   "source": [
    "tsla = yf.Ticker('TSLA')\n",
    "tsla_df = tsla.history(period = '5y')"
   ]
  },
  {
   "cell_type": "code",
   "execution_count": 3,
   "metadata": {},
   "outputs": [
    {
     "data": {
      "text/html": [
       "<div>\n",
       "<style scoped>\n",
       "    .dataframe tbody tr th:only-of-type {\n",
       "        vertical-align: middle;\n",
       "    }\n",
       "\n",
       "    .dataframe tbody tr th {\n",
       "        vertical-align: top;\n",
       "    }\n",
       "\n",
       "    .dataframe thead th {\n",
       "        text-align: right;\n",
       "    }\n",
       "</style>\n",
       "<table border=\"1\" class=\"dataframe\">\n",
       "  <thead>\n",
       "    <tr style=\"text-align: right;\">\n",
       "      <th></th>\n",
       "      <th>Open</th>\n",
       "      <th>High</th>\n",
       "      <th>Low</th>\n",
       "      <th>Close</th>\n",
       "      <th>Volume</th>\n",
       "      <th>Dividends</th>\n",
       "      <th>Stock Splits</th>\n",
       "    </tr>\n",
       "    <tr>\n",
       "      <th>Date</th>\n",
       "      <th></th>\n",
       "      <th></th>\n",
       "      <th></th>\n",
       "      <th></th>\n",
       "      <th></th>\n",
       "      <th></th>\n",
       "      <th></th>\n",
       "    </tr>\n",
       "  </thead>\n",
       "  <tbody>\n",
       "    <tr>\n",
       "      <th>2016-05-02</th>\n",
       "      <td>48.299999</td>\n",
       "      <td>48.638000</td>\n",
       "      <td>46.964001</td>\n",
       "      <td>48.360001</td>\n",
       "      <td>19219500</td>\n",
       "      <td>0</td>\n",
       "      <td>0.0</td>\n",
       "    </tr>\n",
       "    <tr>\n",
       "      <th>2016-05-03</th>\n",
       "      <td>47.472000</td>\n",
       "      <td>47.782001</td>\n",
       "      <td>46.324001</td>\n",
       "      <td>46.464001</td>\n",
       "      <td>21511000</td>\n",
       "      <td>0</td>\n",
       "      <td>0.0</td>\n",
       "    </tr>\n",
       "    <tr>\n",
       "      <th>2016-05-04</th>\n",
       "      <td>46.057999</td>\n",
       "      <td>46.891998</td>\n",
       "      <td>44.080002</td>\n",
       "      <td>44.512001</td>\n",
       "      <td>43502500</td>\n",
       "      <td>0</td>\n",
       "      <td>0.0</td>\n",
       "    </tr>\n",
       "    <tr>\n",
       "      <th>2016-05-05</th>\n",
       "      <td>45.692001</td>\n",
       "      <td>45.728001</td>\n",
       "      <td>41.958000</td>\n",
       "      <td>42.306000</td>\n",
       "      <td>56274000</td>\n",
       "      <td>0</td>\n",
       "      <td>0.0</td>\n",
       "    </tr>\n",
       "    <tr>\n",
       "      <th>2016-05-06</th>\n",
       "      <td>42.174000</td>\n",
       "      <td>43.273998</td>\n",
       "      <td>41.622002</td>\n",
       "      <td>42.986000</td>\n",
       "      <td>28426000</td>\n",
       "      <td>0</td>\n",
       "      <td>0.0</td>\n",
       "    </tr>\n",
       "  </tbody>\n",
       "</table>\n",
       "</div>"
      ],
      "text/plain": [
       "                 Open       High        Low      Close    Volume  Dividends  \\\n",
       "Date                                                                          \n",
       "2016-05-02  48.299999  48.638000  46.964001  48.360001  19219500          0   \n",
       "2016-05-03  47.472000  47.782001  46.324001  46.464001  21511000          0   \n",
       "2016-05-04  46.057999  46.891998  44.080002  44.512001  43502500          0   \n",
       "2016-05-05  45.692001  45.728001  41.958000  42.306000  56274000          0   \n",
       "2016-05-06  42.174000  43.273998  41.622002  42.986000  28426000          0   \n",
       "\n",
       "            Stock Splits  \n",
       "Date                      \n",
       "2016-05-02           0.0  \n",
       "2016-05-03           0.0  \n",
       "2016-05-04           0.0  \n",
       "2016-05-05           0.0  \n",
       "2016-05-06           0.0  "
      ]
     },
     "execution_count": 3,
     "metadata": {},
     "output_type": "execute_result"
    }
   ],
   "source": [
    "tsla_df.head()"
   ]
  },
  {
   "cell_type": "code",
   "execution_count": 4,
   "metadata": {},
   "outputs": [
    {
     "name": "stdout",
     "output_type": "stream",
     "text": [
      "<class 'pandas.core.frame.DataFrame'>\n",
      "DatetimeIndex: 1259 entries, 2016-05-02 to 2021-04-30\n",
      "Data columns (total 7 columns):\n",
      " #   Column        Non-Null Count  Dtype  \n",
      "---  ------        --------------  -----  \n",
      " 0   Open          1259 non-null   float64\n",
      " 1   High          1259 non-null   float64\n",
      " 2   Low           1259 non-null   float64\n",
      " 3   Close         1259 non-null   float64\n",
      " 4   Volume        1259 non-null   int64  \n",
      " 5   Dividends     1259 non-null   int64  \n",
      " 6   Stock Splits  1259 non-null   float64\n",
      "dtypes: float64(5), int64(2)\n",
      "memory usage: 78.7 KB\n"
     ]
    }
   ],
   "source": [
    "tsla_df.info()"
   ]
  },
  {
   "cell_type": "code",
   "execution_count": 5,
   "metadata": {},
   "outputs": [],
   "source": [
    "tsla_df.reset_index(inplace=True)"
   ]
  },
  {
   "cell_type": "code",
   "execution_count": 6,
   "metadata": {},
   "outputs": [
    {
     "data": {
      "text/plain": [
       "'2016-05-02'"
      ]
     },
     "execution_count": 6,
     "metadata": {},
     "output_type": "execute_result"
    }
   ],
   "source": [
    "# get starting value for twint search\n",
    "start_date = dt.strftime(tsla_df.Date.min(), '%Y-%m-%d')\n",
    "start_date"
   ]
  },
  {
   "cell_type": "code",
   "execution_count": 7,
   "metadata": {},
   "outputs": [],
   "source": [
    "# apply twint configurations\n",
    "\n",
    "c = twint.Config()\n",
    "c.Username = 'elonmusk'\n",
    "c.User_full = True\n",
    "c.Count = True\n",
    "c.Stats = True\n",
    "c.Pandas = True\n",
    "c.Store_pandas = True\n",
    "c.Hide_output = True\n",
    "c.Pandas_clean = True\n",
    "#c.Limit = 10\n",
    "c.Since = start_date\n",
    "#c.Search = 'TSLA'"
   ]
  },
  {
   "cell_type": "code",
   "execution_count": 8,
   "metadata": {},
   "outputs": [
    {
     "name": "stdout",
     "output_type": "stream",
     "text": [
      "[!] No more data! Scraping will stop now.\n",
      "found 0 deleted tweets in this search.\n",
      "[+] Finished: Successfully collected 11173 Tweets from @elonmusk.\n"
     ]
    }
   ],
   "source": [
    "twint.run.Search(c)"
   ]
  },
  {
   "cell_type": "code",
   "execution_count": 9,
   "metadata": {},
   "outputs": [],
   "source": [
    "twint.output.panda.Tweets_df.columns;"
   ]
  },
  {
   "cell_type": "code",
   "execution_count": 10,
   "metadata": {},
   "outputs": [],
   "source": [
    "columns = ['date', 'hour', 'tweet']"
   ]
  },
  {
   "cell_type": "code",
   "execution_count": 11,
   "metadata": {},
   "outputs": [],
   "source": [
    "musk_tweets = twint.output.panda.Tweets_df[columns]"
   ]
  },
  {
   "cell_type": "code",
   "execution_count": 12,
   "metadata": {},
   "outputs": [
    {
     "name": "stderr",
     "output_type": "stream",
     "text": [
      "<ipython-input-12-89b59a5d4b61>:3: SettingWithCopyWarning: \n",
      "A value is trying to be set on a copy of a slice from a DataFrame.\n",
      "Try using .loc[row_indexer,col_indexer] = value instead\n",
      "\n",
      "See the caveats in the documentation: https://pandas.pydata.org/pandas-docs/stable/user_guide/indexing.html#returning-a-view-versus-a-copy\n",
      "  musk_tweets['date'] = pd.to_datetime(musk_tweets['date']).dt.date\n"
     ]
    }
   ],
   "source": [
    "# Convert to datetime and remove time from datetime series\n",
    "\n",
    "musk_tweets['date'] = pd.to_datetime(musk_tweets['date']).dt.date"
   ]
  },
  {
   "cell_type": "code",
   "execution_count": 13,
   "metadata": {},
   "outputs": [
    {
     "data": {
      "text/html": [
       "<div>\n",
       "<style scoped>\n",
       "    .dataframe tbody tr th:only-of-type {\n",
       "        vertical-align: middle;\n",
       "    }\n",
       "\n",
       "    .dataframe tbody tr th {\n",
       "        vertical-align: top;\n",
       "    }\n",
       "\n",
       "    .dataframe thead th {\n",
       "        text-align: right;\n",
       "    }\n",
       "</style>\n",
       "<table border=\"1\" class=\"dataframe\">\n",
       "  <thead>\n",
       "    <tr style=\"text-align: right;\">\n",
       "      <th></th>\n",
       "      <th>date</th>\n",
       "      <th>hour</th>\n",
       "      <th>tweet</th>\n",
       "    </tr>\n",
       "  </thead>\n",
       "  <tbody>\n",
       "    <tr>\n",
       "      <th>0</th>\n",
       "      <td>2021-05-02</td>\n",
       "      <td>18</td>\n",
       "      <td>@heydave7 @Tesla A remarkable junction in history</td>\n",
       "    </tr>\n",
       "    <tr>\n",
       "      <th>1</th>\n",
       "      <td>2021-05-02</td>\n",
       "      <td>17</td>\n",
       "      <td>@jaentwistle One of many reasons why we need l...</td>\n",
       "    </tr>\n",
       "    <tr>\n",
       "      <th>2</th>\n",
       "      <td>2021-05-02</td>\n",
       "      <td>16</td>\n",
       "      <td>@jpr007 @EPCalderhead Haha</td>\n",
       "    </tr>\n",
       "    <tr>\n",
       "      <th>3</th>\n",
       "      <td>2021-05-01</td>\n",
       "      <td>23</td>\n",
       "      <td>I love Art Deco</td>\n",
       "    </tr>\n",
       "    <tr>\n",
       "      <th>4</th>\n",
       "      <td>2021-05-01</td>\n",
       "      <td>21</td>\n",
       "      <td>@RSTYCG 👍</td>\n",
       "    </tr>\n",
       "  </tbody>\n",
       "</table>\n",
       "</div>"
      ],
      "text/plain": [
       "         date hour                                              tweet\n",
       "0  2021-05-02   18  @heydave7 @Tesla A remarkable junction in history\n",
       "1  2021-05-02   17  @jaentwistle One of many reasons why we need l...\n",
       "2  2021-05-02   16                         @jpr007 @EPCalderhead Haha\n",
       "3  2021-05-01   23                                    I love Art Deco\n",
       "4  2021-05-01   21                                          @RSTYCG 👍"
      ]
     },
     "execution_count": 13,
     "metadata": {},
     "output_type": "execute_result"
    }
   ],
   "source": [
    "musk_tweets.head()"
   ]
  },
  {
   "cell_type": "code",
   "execution_count": 14,
   "metadata": {},
   "outputs": [
    {
     "name": "stdout",
     "output_type": "stream",
     "text": [
      "<class 'pandas.core.frame.DataFrame'>\n",
      "RangeIndex: 11173 entries, 0 to 11172\n",
      "Data columns (total 3 columns):\n",
      " #   Column  Non-Null Count  Dtype \n",
      "---  ------  --------------  ----- \n",
      " 0   date    11173 non-null  object\n",
      " 1   hour    11173 non-null  object\n",
      " 2   tweet   11173 non-null  object\n",
      "dtypes: object(3)\n",
      "memory usage: 262.0+ KB\n"
     ]
    }
   ],
   "source": [
    "musk_tweets.info()"
   ]
  },
  {
   "cell_type": "code",
   "execution_count": 15,
   "metadata": {},
   "outputs": [],
   "source": [
    "musk_tweets = musk_tweets.sort_values(by='date', ascending = True)"
   ]
  },
  {
   "cell_type": "code",
   "execution_count": 16,
   "metadata": {},
   "outputs": [],
   "source": [
    "musk_tweets.reset_index(inplace=True)"
   ]
  },
  {
   "cell_type": "code",
   "execution_count": 17,
   "metadata": {},
   "outputs": [],
   "source": [
    "del musk_tweets['index']"
   ]
  },
  {
   "cell_type": "code",
   "execution_count": 18,
   "metadata": {},
   "outputs": [],
   "source": [
    "# Clean Data \n",
    "# (https://towardsdatascience.com/another-twitter-sentiment-analysis-bb5b01ebad90)\n",
    "\n",
    "tok = WordPunctTokenizer()\n",
    "pat1 = r'@[A-Za-z0-9_]+'\n",
    "pat2 = r'https?://[A-Za-z0-9./]+'\n",
    "combined_pat = r'|'.join((pat1, pat2))\n",
    "\n",
    "def tweet_cleaner(text):\n",
    "    \"\"\"Cleans tweets by removing @ mentions, html encoding, urls, and utf-8\"\"\"\n",
    "    \n",
    "    # Clean tweet encodings and replace with pat1/pat2\n",
    "    soup = BeautifulSoup(text, 'lxml')\n",
    "    souped = soup.get_text()\n",
    "    stripped = re.sub(combined_pat, '', souped)\n",
    "    \n",
    "    # If Utf-8 is in tweet\n",
    "    try:\n",
    "        clean = stripped.decode(\"utf-8-sig\").replace(u\"\\ufffd\", \"?\")\n",
    "    except:\n",
    "        clean = stripped\n",
    "        \n",
    "    letters_only = re.sub(\"[^a-zA-Z]\", \" \", clean)\n",
    "    lower_case = letters_only.lower()\n",
    "    \n",
    "    # During the letters_only process two lines above, it has created unnecessay white spaces,\n",
    "    # I will tokenize and join together to remove unneccessary white spaces\n",
    "    \n",
    "    words = tok.tokenize(lower_case)\n",
    "    return (\" \".join(words)).strip()"
   ]
  },
  {
   "cell_type": "code",
   "execution_count": 19,
   "metadata": {},
   "outputs": [],
   "source": [
    "musk_tweets['tweet'] = musk_tweets['tweet'].apply(tweet_cleaner)"
   ]
  },
  {
   "cell_type": "code",
   "execution_count": 20,
   "metadata": {},
   "outputs": [],
   "source": [
    "def tweet_df_maker(tweet_df):\n",
    "    \"\"\"takes a dataframe with date, tweet, and hours and returns dataframe with day and tweet.\n",
    "       Tweets from same date are grouped together\n",
    "       Tweets after market close to next day.\"\"\"\n",
    "    \n",
    "    tweets_collected = {}\n",
    "    \n",
    "    \n",
    "    # If tweet hour is < 16, apply to current day, if >= 16 apply to next day\n",
    "    \n",
    "    current_tweet = \"\"\n",
    "    tweets_collected[tweet_df['date'].iloc[0]] = current_tweet\n",
    "   \n",
    "    for i in range(len(tweet_df.index)):\n",
    "        \n",
    "        current_date = tweet_df['date'].iloc[i]\n",
    "        if current_date in tweets_collected:\n",
    "            if int(tweet_df['hour'].iloc[i]) < 16:\n",
    "                tweets_collected[current_date] += \" \" + str(tweet_df['tweet'].iloc[i])\n",
    "            else: \n",
    "                next_date = current_date + timedelta(days=1)\n",
    "                tweets_collected[next_date] = \"\"\n",
    "                tweets_collected[next_date] += \" \" + str(tweet_df['tweet'].iloc[i])\n",
    "        else:\n",
    "            tweets_collected[current_date] = str(tweet_df['tweet'].iloc[i])\n",
    "            \n",
    "    tweet_df = pd.DataFrame.from_dict(tweets_collected, orient='index', columns = ['Tweet'])\n",
    "    tweet_df.reset_index(inplace=True)\n",
    "    tweet_df = tweet_df.rename(columns={'index':'Date'})\n",
    "    \n",
    "    return tweet_df"
   ]
  },
  {
   "cell_type": "code",
   "execution_count": 21,
   "metadata": {},
   "outputs": [],
   "source": [
    "tweets = tweet_df_maker(musk_tweets)"
   ]
  },
  {
   "cell_type": "code",
   "execution_count": 36,
   "metadata": {},
   "outputs": [],
   "source": [
    "# Set up tweet_stocks\n",
    "\n",
    "tweet_stock = tweets.set_index('Date').join(tsla_df.set_index('Date'), how='left')\n",
    "tweet_stock = tweet_stock[['Tweet', 'Close']]\n",
    "tweet_stock['TSLA Price'] = tweet_stock['Close'].fillna(method='ffill')\n",
    "del tweet_stock['Close']\n",
    "tweet_stock['Percent Change'] = tweet_stock['TSLA Price'].pct_change()"
   ]
  },
  {
   "cell_type": "code",
   "execution_count": 37,
   "metadata": {},
   "outputs": [
    {
     "data": {
      "text/html": [
       "<div>\n",
       "<style scoped>\n",
       "    .dataframe tbody tr th:only-of-type {\n",
       "        vertical-align: middle;\n",
       "    }\n",
       "\n",
       "    .dataframe tbody tr th {\n",
       "        vertical-align: top;\n",
       "    }\n",
       "\n",
       "    .dataframe thead th {\n",
       "        text-align: right;\n",
       "    }\n",
       "</style>\n",
       "<table border=\"1\" class=\"dataframe\">\n",
       "  <thead>\n",
       "    <tr style=\"text-align: right;\">\n",
       "      <th></th>\n",
       "      <th>Tweet</th>\n",
       "      <th>TSLA Price</th>\n",
       "      <th>Percent Change</th>\n",
       "    </tr>\n",
       "    <tr>\n",
       "      <th>Date</th>\n",
       "      <th></th>\n",
       "      <th></th>\n",
       "      <th></th>\n",
       "    </tr>\n",
       "  </thead>\n",
       "  <tbody>\n",
       "    <tr>\n",
       "      <th>2016-05-02</th>\n",
       "      <td>bioweapon defense mode is real this is what h...</td>\n",
       "      <td>48.360001</td>\n",
       "      <td>NaN</td>\n",
       "    </tr>\n",
       "    <tr>\n",
       "      <th>2016-05-05</th>\n",
       "      <td>tesla is increasing the production ramp as fas...</td>\n",
       "      <td>42.306000</td>\n",
       "      <td>-0.125186</td>\n",
       "    </tr>\n",
       "    <tr>\n",
       "      <th>2016-05-06</th>\n",
       "      <td>woohoo may need to increase size of rocket sto...</td>\n",
       "      <td>42.986000</td>\n",
       "      <td>0.016073</td>\n",
       "    </tr>\n",
       "    <tr>\n",
       "      <th>2016-05-07</th>\n",
       "      <td>i think so certainly agree that it is first a...</td>\n",
       "      <td>42.986000</td>\n",
       "      <td>0.000000</td>\n",
       "    </tr>\n",
       "    <tr>\n",
       "      <th>2016-05-09</th>\n",
       "      <td>coming soon</td>\n",
       "      <td>41.784000</td>\n",
       "      <td>-0.027963</td>\n",
       "    </tr>\n",
       "    <tr>\n",
       "      <th>...</th>\n",
       "      <td>...</td>\n",
       "      <td>...</td>\n",
       "      <td>...</td>\n",
       "    </tr>\n",
       "    <tr>\n",
       "      <th>2021-04-29</th>\n",
       "      <td>best selling by revenue in possibly by unit v...</td>\n",
       "      <td>677.000000</td>\n",
       "      <td>-0.025058</td>\n",
       "    </tr>\n",
       "    <tr>\n",
       "      <th>2021-04-30</th>\n",
       "      <td>fsd display v will show actual probability di...</td>\n",
       "      <td>709.440002</td>\n",
       "      <td>0.047917</td>\n",
       "    </tr>\n",
       "    <tr>\n",
       "      <th>2021-05-01</th>\n",
       "      <td>woke james bond snl may</td>\n",
       "      <td>709.440002</td>\n",
       "      <td>0.000000</td>\n",
       "    </tr>\n",
       "    <tr>\n",
       "      <th>2021-05-02</th>\n",
       "      <td>i love art deco</td>\n",
       "      <td>709.440002</td>\n",
       "      <td>0.000000</td>\n",
       "    </tr>\n",
       "    <tr>\n",
       "      <th>2021-05-03</th>\n",
       "      <td>a remarkable junction in history</td>\n",
       "      <td>709.440002</td>\n",
       "      <td>0.000000</td>\n",
       "    </tr>\n",
       "  </tbody>\n",
       "</table>\n",
       "<p>1565 rows × 3 columns</p>\n",
       "</div>"
      ],
      "text/plain": [
       "                                                        Tweet  TSLA Price  \\\n",
       "Date                                                                        \n",
       "2016-05-02   bioweapon defense mode is real this is what h...   48.360001   \n",
       "2016-05-05  tesla is increasing the production ramp as fas...   42.306000   \n",
       "2016-05-06  woohoo may need to increase size of rocket sto...   42.986000   \n",
       "2016-05-07   i think so certainly agree that it is first a...   42.986000   \n",
       "2016-05-09                                        coming soon   41.784000   \n",
       "...                                                       ...         ...   \n",
       "2021-04-29   best selling by revenue in possibly by unit v...  677.000000   \n",
       "2021-04-30   fsd display v will show actual probability di...  709.440002   \n",
       "2021-05-01                            woke james bond snl may  709.440002   \n",
       "2021-05-02                                    i love art deco  709.440002   \n",
       "2021-05-03                   a remarkable junction in history  709.440002   \n",
       "\n",
       "            Percent Change  \n",
       "Date                        \n",
       "2016-05-02             NaN  \n",
       "2016-05-05       -0.125186  \n",
       "2016-05-06        0.016073  \n",
       "2016-05-07        0.000000  \n",
       "2016-05-09       -0.027963  \n",
       "...                    ...  \n",
       "2021-04-29       -0.025058  \n",
       "2021-04-30        0.047917  \n",
       "2021-05-01        0.000000  \n",
       "2021-05-02        0.000000  \n",
       "2021-05-03        0.000000  \n",
       "\n",
       "[1565 rows x 3 columns]"
      ]
     },
     "execution_count": 37,
     "metadata": {},
     "output_type": "execute_result"
    }
   ],
   "source": [
    "tweet_stock"
   ]
  },
  {
   "cell_type": "code",
   "execution_count": null,
   "metadata": {},
   "outputs": [],
   "source": []
  }
 ],
 "metadata": {
  "kernelspec": {
   "display_name": "Python 3",
   "language": "python",
   "name": "python3"
  },
  "language_info": {
   "codemirror_mode": {
    "name": "ipython",
    "version": 3
   },
   "file_extension": ".py",
   "mimetype": "text/x-python",
   "name": "python",
   "nbconvert_exporter": "python",
   "pygments_lexer": "ipython3",
   "version": "3.8.5"
  }
 },
 "nbformat": 4,
 "nbformat_minor": 4
}
